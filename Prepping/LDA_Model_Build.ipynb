{
 "cells": [
  {
   "cell_type": "code",
   "execution_count": 7,
   "id": "c19e0e09",
   "metadata": {},
   "outputs": [],
   "source": [
    "import numpy as np\n",
    "import gensim\n",
    "import gensim.corpora as corpora\n",
    "from gensim.utils import simple_preprocess \n",
    "from gensim.models.coherencemodel import CoherenceModel \n",
    "from gensim.models.ldamodel import LdaModel\n",
    "import spacy\n",
    "import nltk\n",
    "import pyLDAvis \n",
    "import warnings\n",
    "import pickle\n",
    "import json\n",
    "from gensim.models import TfidfModel\n",
    "import matplotlib.pyplot as plt\n",
    "import re\n",
    "from pprint import pprint\n",
    "import pandas as pd\n",
    "import time\n",
    "from gensim.test.utils import datapath\n",
    "from gensim import corpora, models, similarities\n",
    "\n",
    "warnings.filterwarnings(\"ignore\")"
   ]
  },
  {
   "cell_type": "code",
   "execution_count": 8,
   "id": "ac6d4701",
   "metadata": {},
   "outputs": [],
   "source": [
    "def lemmatization(texts, allowed_postags=[\"NOUN\", \"ADJ\", \"VERB\", \"ADV\"]):\n",
    "    # import the English spacy object as en\n",
    "    en = spacy.load('en_core_web_sm', disable=[\"parser\", \"ner\"])\n",
    "    # save spacy's stopwords to stopwords\n",
    "    stopwords = en.Defaults.stop_words # spacy has a longer list of stopwords than NLTK\n",
    "    # append more stopwords to our stopwords variable\n",
    "    #stopwords |= {\"other\", \"when\", \"so\", \"such\", \"therefore\", \"electronic\", \"ebook\", \n",
    "    #              \"website\", \"licence\", \"comply\", \"format\", \"table\", \"copy\"}\n",
    "    texts_out = []\n",
    "    i = 1\n",
    "    l = len(texts)\n",
    "    for text in texts:\n",
    "        doc = en(text) # use the spacy to create an object that contains essential metadata about our corpus\n",
    "        new_text = [] \n",
    "        # lemmatize\n",
    "        for token in doc: # iterate over each of the words in the doc object\n",
    "            if token.pos_ in allowed_postags: # if the token.part.of.speech is in our allowed postags\n",
    "                new_text.append(token.lemma_) # then append the lemmatized form to our new text.\n",
    "        # remove stopwords (the spacy way)\n",
    "        cleaned_text = []\n",
    "        for text in new_text:\n",
    "            lexeme = en.vocab[text] # lexeme is a unit of language\n",
    "            if lexeme.is_stop == False:\n",
    "                cleaned_text.append(text)\n",
    "        final = \" \".join(cleaned_text) # finally, we reconstute the lemmas as a text again\n",
    "        texts_out.append(final)\n",
    "        if i % 100 == 0:\n",
    "            print(round(i/l, 4)*100, '%')\n",
    "        i += 1\n",
    "    return texts_out # this returns your lemmatized text with the stopwords removed\n",
    "\n",
    "\n",
    "def gen_words(texts): # pass in your texts as an argument\n",
    "    final = []\n",
    "    for text in texts: # iterate over the texts\n",
    "        new = gensim.utils.simple_preprocess(text, deacc=True) \n",
    "        final.append(new)\n",
    "    return final # turns your texts into preprocessed, individual words\n",
    "\n",
    "def make_bigrams(texts):\n",
    "    # identify and reconsitute all of your bigrams\n",
    "    return [bigram[doc] for doc in texts] #important to use square brackets for list comprehension\n",
    "\n",
    "def make_trigrams(texts):\n",
    "    return[trigram[bigram[doc]] for doc in texts]\n"
   ]
  },
  {
   "cell_type": "code",
   "execution_count": 9,
   "id": "67dfa10a",
   "metadata": {},
   "outputs": [],
   "source": [
    "df = pd.read_pickle('C:/Users/senic/OneDrive/Desktop/Masters/WINTER_2021/ECO2460/Term_Paper/Code/Replication_Data/cleaned_WSJ_data_V2.pkl')\n",
    "df_id = pd.read_pickle('C:/Users/senic/OneDrive/Desktop/Masters/WINTER_2021/ECO2460/Term_Paper/Code/Replication_Data/WSJ_id2word_V2.pkl')"
   ]
  },
  {
   "cell_type": "code",
   "execution_count": 4,
   "id": "0069aa0c",
   "metadata": {},
   "outputs": [
    {
     "data": {
      "text/plain": [
       "<gensim.corpora.dictionary.Dictionary at 0x2000e718f10>"
      ]
     },
     "execution_count": 4,
     "metadata": {},
     "output_type": "execute_result"
    }
   ],
   "source": [
    "df_id"
   ]
  },
  {
   "cell_type": "code",
   "execution_count": 10,
   "id": "1476d444",
   "metadata": {},
   "outputs": [],
   "source": [
    "corpus = df['corpus'].tolist()\n",
    "data_bigrams = df['data_bigrams'].tolist()\n",
    "DOJ = df['text'].tolist()"
   ]
  },
  {
   "cell_type": "code",
   "execution_count": 13,
   "id": "c6e1553c",
   "metadata": {},
   "outputs": [
    {
     "name": "stdout",
     "output_type": "stream",
     "text": [
      "Done word list\n",
      "68.87  %\n",
      "1520.3417117595673\n",
      "72.76  %\n",
      "1618.0104763507843\n",
      "76.64999999999999  %\n",
      "1521.7442376613617\n",
      "80.54  %\n",
      "1453.0076396465302\n",
      "84.44  %\n",
      "1347.693440437317\n",
      "88.33  %\n",
      "1468.4269480705261\n",
      "92.22  %\n",
      "1408.7229497432709\n",
      "96.11  %\n",
      "1449.9661939144135\n"
     ]
    },
    {
     "data": {
      "text/plain": [
       "Text(0.5, 1.0, 'Perplexity Score')"
      ]
     },
     "execution_count": 13,
     "metadata": {},
     "output_type": "execute_result"
    },
    {
     "data": {
      "image/png": "[encoded data removed]",
      "text/plain": [
       "<Figure size 720x432 with 2 Axes>"
      ]
     },
     "metadata": {
      "needs_background": "light"
     },
     "output_type": "display_data"
    }
   ],
   "source": [
    "# for plotting \n",
    "k_range = np.linspace(0, 15) \n",
    "fig, axes = plt.subplots(nrows=1, ncols=2, figsize=(10, 6))\n",
    "\n",
    "max_k = 260\n",
    "\n",
    "# create word list for coherence scoring\n",
    "text = []\n",
    "for i in range(0,len(DOJ)):\n",
    "    words = re.findall('\\w+', DOJ[i])\n",
    "    text.append(words)\n",
    "\n",
    "print(\"Done word list\")\n",
    "    \n",
    "# train LDA models with 3 topics to max_k topics and plot their coherence score and perplexity score\n",
    "l = max_k - 3\n",
    "for k in range(180, max_k, 10):\n",
    "    start = time.time()\n",
    "    lda_model = gensim.models.ldamodel.LdaModel(corpus=corpus, id2word = df_id,\n",
    "                                                num_topics = k,\n",
    "                                                random_state=52,\n",
    "                                                update_every=100,\n",
    "                                                chunksize=10000, \n",
    "                                                passes=2, alpha=\"auto\", eta = \"auto\") \n",
    "\n",
    "    coherence_model_lda = CoherenceModel(model=lda_model, texts=text, dictionary=df_id, coherence='u_mass')\n",
    "    coherence_lda = coherence_model_lda.get_coherence()\n",
    "    axes[0].scatter(k, coherence_lda)\n",
    "    PerWordPP = lda_model.log_perplexity(corpus)\n",
    "    axes[1].scatter(k, PerWordPP)\n",
    "    print(round((k-3)/l, 4)*100, ' %')\n",
    "    lda_model.save('C:/Users/senic/OneDrive/Desktop/Masters/WINTER_2021/ECO2460/Term_Paper/Code/models/'+str(k)+'_model_fast.model')\n",
    "    end = time.time()\n",
    "    print(end-start)\n",
    "    \n",
    "axes[0].set_title('Coherence Score')\n",
    "axes[1].set_title('Perplexity Score')"
   ]
  },
  {
   "cell_type": "code",
   "execution_count": 43,
   "id": "73d53f98",
   "metadata": {},
   "outputs": [
    {
     "name": "stdout",
     "output_type": "stream",
     "text": [
      "4910.51869392395\n"
     ]
    }
   ],
   "source": [
    "# now build your final LDA model with your chosen number of topics\n",
    "tops = 190\n",
    "\n",
    "start = time.time()\n",
    "\n",
    "lda_model = gensim.models.ldamodel.LdaModel(corpus=corpus,id2word = df_id,num_topics =tops,\n",
    "                                            random_state=52,\n",
    "                                            update_every=5,\n",
    "                                            chunksize=500,\n",
    "                                            passes=8,\n",
    "                                            alpha=\"auto\",\n",
    "                                            eta = \"auto\") \n",
    "\n",
    "\n",
    "end = time.time()\n",
    "print(end-start)\n",
    "\n",
    "lda_model.save('C:/Users/senic/OneDrive/Desktop/Masters/WINTER_2021/ECO2460/Term_Paper/Code/models/190_model_slow_V5.model')\n"
   ]
  },
  {
   "cell_type": "code",
   "execution_count": 31,
   "id": "6b61ca91",
   "metadata": {},
   "outputs": [
    {
     "name": "stdout",
     "output_type": "stream",
     "text": [
      "('0.038*\"business\" + 0.029*\"company\" + 0.013*\"work\" + 0.012*\"employee\" + '\n",
      " '0.009*\"need\" + 0.009*\"small\" + 0.009*\"firm\" + 0.009*\"like\" + 0.009*\"help\" + '\n",
      " '0.009*\"big\"')\n"
     ]
    }
   ],
   "source": [
    "# print the most frequent words in each topic\n",
    "from pprint import pprint\n",
    "pprint(lda_model.print_topic(46))"
   ]
  },
  {
   "cell_type": "code",
   "execution_count": 18,
   "id": "a74f8a8b",
   "metadata": {},
   "outputs": [
    {
     "data": {
      "image/png": "[encoded data removed]",
      "text/plain": [
       "<Figure size 720x432 with 2 Axes>"
      ]
     },
     "metadata": {
      "needs_background": "light"
     },
     "output_type": "display_data"
    }
   ],
   "source": [
    "import matplotlib.pyplot as plt\n",
    "\n",
    "coh_list = [-1.8457556307621452, -2.4256523138446364, -2.4519366265143026, -2.3343176132476295, -2.3615841871775896, \\\n",
    "            -2.292877322087626, -2.3859555585998047, -2.424683940430401, -2.4075946233672396, -2.4143309553268297, \\\n",
    "            -2.4105116579761576, -2.5036319267181733, -2.5605178188031634, -2.5080676299704354, -2.475975156294528, \\\n",
    "            -2.5418008242447803, -2.50119745024119, -2.6146235910746762, -2.4218266878096757, -2.54915043536991, \\\n",
    "            -2.5029642772046286, -2.527504324902838, -2.5264165650204493, -2.5331816066579873, -2.479175015617633]\n",
    "\n",
    "perp_list = [-8.455719866566382, -8.344690535865945,-8.327926660125804,-8.347061633235592,-8.374199357317616, \\\n",
    "             -8.409815339705299, -8.434018338071974,-8.46237627976206,-8.491889154231332,-8.52809068553354, \\\n",
    "              -8.563372935991538,-8.60339824609793, -8.639607528567756,-8.675510516910887, -8.710992209497014, \\\n",
    "             -8.750423425113105, -8.792464331918268,-8.825309310807969,-8.863900508652007,-8.895526716558534, \\\n",
    "             -8.935616511094423, -8.974889135357678, -9.007757755482135,-9.042594225607395,-9.077401072501289]\n",
    "\n",
    "#fig, axes = plt.subplots(nrows=1, ncols=2, figsize=(10, 6))\n",
    "\n",
    "#axes[0].set_title('Coherence Score')\n",
    "#axes[1].set_title('Perplexity Score')\n",
    "\n",
    "x_ax = [i for i in range(10, 260, 10)]\n",
    "\n",
    "#for i in range(10, 260, 10):\n",
    "    #axes[0].plot(i, coh_list[i])\n",
    "#    plt.plot(i, coh_list[i])\n",
    "    #axes[1].plot(i, perp_list[i])\n",
    "\n",
    "fig, ax = plt.subplots(nrows=1, ncols=2, figsize=(10, 6))\n",
    "    \n",
    "ax[0].set_xlabel('Number of Topics')\n",
    "ax[0].set_ylabel('Coherence Score')    \n",
    "\n",
    "ax[0].scatter(x_ax, coh_list)\n",
    "    \n",
    "#plt.show()\n",
    "\n",
    "\n",
    "ax[1].set_xlabel('Number of Topics')\n",
    "ax[1].set_ylabel('Perplexity Score') \n",
    "\n",
    "ax[1].scatter(x_ax, perp_list)\n",
    "\n",
    "fig.show()"
   ]
  }
 ],
 "metadata": {
  "kernelspec": {
   "display_name": "Python 3 (ipykernel)",
   "language": "python",
   "name": "python3"
  },
  "language_info": {
   "codemirror_mode": {
    "name": "ipython",
    "version": 3
   },
   "file_extension": ".py",
   "mimetype": "text/x-python",
   "name": "python",
   "nbconvert_exporter": "python",
   "pygments_lexer": "ipython3",
   "version": "3.9.7"
  }
 },
 "nbformat": 4,
 "nbformat_minor": 5
}
