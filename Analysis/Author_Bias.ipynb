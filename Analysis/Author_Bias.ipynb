{
 "cells": [
  {
   "cell_type": "code",
   "execution_count": 1,
   "id": "343ed67f",
   "metadata": {},
   "outputs": [],
   "source": [
    "%%capture\n",
    "\n",
    "#inspired by code found at https://www.digitalocean.com/community/tutorials/how-to-perform-sentiment-analysis-in-python-3-using-the-natural-language-toolkit-nltk\n",
    "from nltk.stem.wordnet import WordNetLemmatizer\n",
    "from nltk.corpus import stopwords\n",
    "from nltk.tag import pos_tag\n",
    "from nltk.tokenize import word_tokenize\n",
    "from nltk import classify, NaiveBayesClassifier\n",
    "import re, string, random\n",
    "import nltk\n",
    "\n",
    "import pandas as pd\n",
    "\n",
    "nltk.download('stopwords')\n",
    "nltk.download('punkt')\n",
    "nltk.download('averaged_perceptron_tagger')\n",
    "nltk.download('wordnet')"
   ]
  },
  {
   "cell_type": "markdown",
   "id": "1afabd36",
   "metadata": {},
   "source": [
    "Define helper functions for tokenization and lemmatization"
   ]
  },
  {
   "cell_type": "code",
   "execution_count": 2,
   "id": "a1b4f74a",
   "metadata": {},
   "outputs": [],
   "source": [
    "def remove_noise(tokens, stop_words = ()):\n",
    "\n",
    "    cleaned_tokens = []\n",
    "\n",
    "    for token, tag in pos_tag(tokens):\n",
    "        token = re.sub('http[s]?://(?:[a-zA-Z]|[0-9]|[$-_@.&+#]|[!*\\(\\),]|'\\\n",
    "                       '(?:%[0-9a-fA-F][0-9a-fA-F]))+','', token)\n",
    "        token = re.sub(\"(@[A-Za-z0-9_]+)\",\"\", token)\n",
    "\n",
    "        if tag.startswith(\"NN\"):\n",
    "            pos = 'n'\n",
    "        elif tag.startswith('VB'):\n",
    "            pos = 'v'\n",
    "        else:\n",
    "            pos = 'a'\n",
    "\n",
    "        lemmatizer = WordNetLemmatizer()\n",
    "        token = lemmatizer.lemmatize(token, pos)\n",
    "\n",
    "        if len(token) > 0 and token not in string.punctuation and token.lower() not in stop_words:\n",
    "            cleaned_tokens.append(token.lower())\n",
    "    return cleaned_tokens\n",
    "\n",
    "def get_all_words(cleaned_tokens_list):\n",
    "    for tokens in cleaned_tokens_list:\n",
    "        for token in tokens:\n",
    "            if token in [\"f.\",\"'s\", \"'\", \"'re\", '\"', \"...\", \"..\", \"'ll\", \"'ve\", \"'m\", \"....\", \"'d\", \"--\", \".....\"]: \n",
    "                continue\n",
    "            else:\n",
    "                yield token\n",
    "\n",
    "def get_strings_for_model(cleaned_tokens_list):\n",
    "    for tweet_tokens in cleaned_tokens_list:\n",
    "        yield dict([token, True] for token in tweet_tokens)\n"
   ]
  },
  {
   "cell_type": "markdown",
   "id": "c4ac7404",
   "metadata": {},
   "source": [
    "Load all relevant articles"
   ]
  },
  {
   "cell_type": "code",
   "execution_count": 3,
   "id": "ce5ea418",
   "metadata": {},
   "outputs": [],
   "source": [
    "df = pd.read_csv('', encoding = \"ISO-8859-1\")\n"
   ]
  },
  {
   "cell_type": "code",
   "execution_count": 5,
   "id": "d8496c9a",
   "metadata": {},
   "outputs": [],
   "source": [
    "#grab the articles corresponding to each of the top authors\n",
    "top_auths = df['author'].value_counts()[1:3].keys().tolist()\n",
    "auth_docs = []\n",
    "for i in range(0, len(top_auths)):\n",
    "    temp = df.loc[df['author'] == top_auths[i]]\n",
    "    docs = temp['text'].tolist()\n",
    "    auth_docs.append(docs)"
   ]
  },
  {
   "cell_type": "markdown",
   "id": "ab633bd4",
   "metadata": {},
   "source": [
    "Build a list of cleaned tokens for each article of each author"
   ]
  },
  {
   "cell_type": "code",
   "execution_count": 6,
   "id": "55c3cab2",
   "metadata": {},
   "outputs": [],
   "source": [
    "#build a dictionary of stop words\n",
    "stop_words = stopwords.words('english')"
   ]
  },
  {
   "cell_type": "code",
   "execution_count": 7,
   "id": "456bebd9",
   "metadata": {},
   "outputs": [],
   "source": [
    "tokens = []\n",
    "for i in range(0, len(top_auths)):\n",
    "    tokens.append([])\n",
    "    for art in auth_docs[i]:\n",
    "        tokens[i].append(nltk.word_tokenize(art))"
   ]
  },
  {
   "cell_type": "code",
   "execution_count": 8,
   "id": "b403bba5",
   "metadata": {},
   "outputs": [
    {
     "name": "stdout",
     "output_type": "stream",
     "text": [
      "0\n",
      "1\n"
     ]
    }
   ],
   "source": [
    "cleaned_tokens = []\n",
    "for i in range(0, len(top_auths)):\n",
    "    cleaned_tokens.append([])\n",
    "    for tok in tokens[i]:\n",
    "        cleaned_tokens[i].append(remove_noise(tok, stop_words))\n",
    "    print(i)"
   ]
  },
  {
   "cell_type": "code",
   "execution_count": 9,
   "id": "3fcdd928",
   "metadata": {},
   "outputs": [],
   "source": [
    "all_words = []\n",
    "for i in range(0, len(top_auths)):\n",
    "    all_words.append(get_all_words(cleaned_tokens[i]))"
   ]
  },
  {
   "cell_type": "markdown",
   "id": "bad14d1f",
   "metadata": {},
   "source": [
    "Only consider articles from the selected authors"
   ]
  },
  {
   "cell_type": "code",
   "execution_count": 10,
   "id": "c337dfb0",
   "metadata": {},
   "outputs": [],
   "source": [
    "ds_auths = []\n",
    "for i in range(0, len(top_auths)):\n",
    "    ds_auths.append([(word_dict, top_auths[i]) for word_dict in  get_strings_for_model(cleaned_tokens[i])])\n",
    "\n",
    "ds_full = ds_auths[0]\n",
    "for i in range(1, len(top_auths)):\n",
    "    ds_full = ds_full + ds_auths[i]"
   ]
  },
  {
   "cell_type": "code",
   "execution_count": 11,
   "id": "c893e9fd",
   "metadata": {},
   "outputs": [],
   "source": [
    "random.shuffle(ds_full)\n",
    "l_ds = len(ds_full)\n",
    "ds_sp = round(l_ds * 0.7)\n",
    "\n",
    "#split data into training and test\n",
    "train_data = ds_full[:ds_sp]\n",
    "test_data = ds_full[ds_sp:]"
   ]
  },
  {
   "cell_type": "code",
   "execution_count": 12,
   "id": "ee362f91",
   "metadata": {},
   "outputs": [
    {
     "name": "stdout",
     "output_type": "stream",
     "text": [
      "Accuracy is: 0.9441860465116279\n",
      "Most Informative Features\n",
      "                  justin = True           Lahart : Seib,  =    112.2 : 1.0\n",
      "                  barack = True           Seib,  : Lahart =     95.3 : 1.0\n",
      "                  leader = True           Seib,  : Lahart =     84.2 : 1.0\n",
      "              democratic = True           Seib,  : Lahart =     81.1 : 1.0\n",
      "                   voter = True           Seib,  : Lahart =     72.2 : 1.0\n",
      "None\n"
     ]
    }
   ],
   "source": [
    "accs = []\n",
    "\n",
    "#run the Naive Bayesian classification model\n",
    "classifier = NaiveBayesClassifier.train(train_data)\n",
    "print(\"Accuracy is:\", classify.accuracy(classifier, test_data))\n",
    "print(classifier.show_most_informative_features(5))\n",
    "\n",
    "accs.append(classify.accuracy(classifier, test_data))"
   ]
  },
  {
   "cell_type": "markdown",
   "id": "6586decc",
   "metadata": {},
   "source": [
    "Extend our classification analysis to the top 30 authors"
   ]
  },
  {
   "cell_type": "code",
   "execution_count": 13,
   "id": "5b61ac12",
   "metadata": {},
   "outputs": [
    {
     "name": "stdout",
     "output_type": "stream",
     "text": [
      "3\n",
      "Accuracy is: 0.9614147909967846\n",
      "4\n",
      "Accuracy is: 0.9699248120300752\n",
      "5\n",
      "Accuracy is: 0.9690721649484536\n",
      "6\n",
      "Accuracy is: 0.9732620320855615\n",
      "7\n",
      "Accuracy is: 0.9339622641509434\n",
      "8\n",
      "Accuracy is: 0.9126760563380282\n",
      "9\n",
      "Accuracy is: 0.909323116219668\n",
      "10\n",
      "Accuracy is: 0.9111111111111111\n",
      "11\n",
      "Accuracy is: 0.9081081081081082\n",
      "12\n",
      "Accuracy is: 0.9095477386934674\n",
      "13\n",
      "Accuracy is: 0.8909774436090225\n",
      "14\n",
      "Accuracy is: 0.8437775816416593\n",
      "15\n",
      "Accuracy is: 0.8379281537176274\n",
      "16\n",
      "Accuracy is: 0.8366375892149088\n",
      "17\n",
      "Accuracy is: 0.8228614685844058\n",
      "18\n",
      "Accuracy is: 0.8072463768115942\n",
      "19\n",
      "Accuracy is: 0.7849686847599165\n",
      "20\n",
      "Accuracy is: 0.7757697456492637\n",
      "21\n",
      "Accuracy is: 0.775338928340865\n",
      "22\n",
      "Accuracy is: 0.7724438902743143\n",
      "23\n",
      "Accuracy is: 0.7932489451476793\n",
      "24\n",
      "Accuracy is: 0.7559836544074723\n",
      "25\n",
      "Accuracy is: 0.7542468856172141\n",
      "26\n",
      "Accuracy is: 0.7696536558548653\n",
      "27\n",
      "Accuracy is: 0.7728487439871726\n",
      "28\n",
      "Accuracy is: 0.7633905356214249\n",
      "29\n",
      "Accuracy is: 0.7756962025316456\n",
      "30\n",
      "Accuracy is: 0.76\n"
     ]
    }
   ],
   "source": [
    "\n",
    "for i in range (2,30):\n",
    "    top_auths.append(df['author'].value_counts().keys()[i])\n",
    "    temp = df.loc[df['author'] == top_auths[i]]\n",
    "    docs = temp['text'].tolist()\n",
    "    auth_docs.append(docs)\n",
    "    tokens.append([])\n",
    "    for art in auth_docs[i]:\n",
    "        tokens[i].append(nltk.word_tokenize(art))\n",
    "    cleaned_tokens.append([])\n",
    "    for tok in tokens[i]:\n",
    "        cleaned_tokens[i].append(remove_noise(tok, stop_words))\n",
    "    print(i+1)\n",
    "    all_words.append(get_all_words(cleaned_tokens[i]))\n",
    "    ds_auths.append([(word_dict, top_auths[i]) for word_dict in  get_strings_for_model(cleaned_tokens[i])])\n",
    "\n",
    "    ds_full = ds_full + ds_auths[i]\n",
    "    \n",
    "    random.shuffle(ds_full)\n",
    "    l_ds = len(ds_full)\n",
    "    ds_sp = round(l_ds * 0.7)\n",
    "\n",
    "    #split data into training and test\n",
    "    train_data = ds_full[:ds_sp]\n",
    "    test_data = ds_full[ds_sp:]\n",
    "    classifier = NaiveBayesClassifier.train(train_data)\n",
    "    print(\"Accuracy is:\", classify.accuracy(classifier, test_data))\n",
    "    #print(classifier.show_most_informative_features(5))\n",
    "    accs.append(classify.accuracy(classifier, test_data))\n"
   ]
  },
  {
   "cell_type": "markdown",
   "id": "a12e3a0e",
   "metadata": {},
   "source": [
    "Plot the classification accuracy as we increase the number of top authors considered"
   ]
  },
  {
   "cell_type": "code",
   "execution_count": 16,
   "id": "278e3f09",
   "metadata": {},
   "outputs": [
    {
     "data": {
      "text/plain": [
       "[<matplotlib.lines.Line2D at 0x277ad787df0>]"
      ]
     },
     "execution_count": 16,
     "metadata": {},
     "output_type": "execute_result"
    },
    {
     "data": {
      "image/png": "[encoded data removed]",
      "text/plain": [
       "<Figure size 432x288 with 1 Axes>"
      ]
     },
     "metadata": {
      "needs_background": "light"
     },
     "output_type": "display_data"
    }
   ],
   "source": [
    "import matplotlib.pyplot as plt\n",
    "\n",
    "ax = [i for i in range(2,31)]\n",
    "\n",
    "plt.xlabel('Number of Authors')\n",
    "plt.ylabel('Classification Accuracy')\n",
    "\n",
    "plt.plot(ax, accs)"
   ]
  },
  {
   "cell_type": "code",
   "execution_count": 17,
   "id": "82ceb555",
   "metadata": {},
   "outputs": [],
   "source": [
    "top_auths_back = top_auths.copy()\n",
    "acc_back = accs"
   ]
  },
  {
   "cell_type": "markdown",
   "id": "ee1e8e0b",
   "metadata": {},
   "source": [
    "Extend our analysis to the top 50 authors"
   ]
  },
  {
   "cell_type": "code",
   "execution_count": 18,
   "id": "17b83ce6",
   "metadata": {},
   "outputs": [
    {
     "name": "stdout",
     "output_type": "stream",
     "text": [
      "31\n",
      "Accuracy is: 0.7469879518072289\n",
      "32\n",
      "Accuracy is: 0.7498822421102214\n",
      "33\n",
      "Accuracy is: 0.748158379373849\n",
      "34\n",
      "Accuracy is: 0.7014858171994597\n",
      "35\n",
      "Accuracy is: 0.6760687527545174\n",
      "36\n",
      "Accuracy is: 0.6978851963746223\n",
      "37\n",
      "Accuracy is: 0.6617336152219874\n",
      "38\n",
      "Accuracy is: 0.6604477611940298\n",
      "39\n",
      "Accuracy is: 0.6409109394062628\n",
      "40\n",
      "Accuracy is: 0.6174121405750799\n",
      "41\n",
      "Accuracy is: 0.5262745098039215\n",
      "42\n",
      "Accuracy is: 0.5531996915959907\n",
      "43\n",
      "Accuracy is: 0.5547555892383479\n",
      "44\n",
      "Accuracy is: 0.5870294446515095\n",
      "45\n",
      "Accuracy is: 0.5586940572267058\n",
      "46\n",
      "Accuracy is: 0.5404332129963899\n",
      "47\n",
      "Accuracy is: 0.5540156361051883\n",
      "48\n",
      "Accuracy is: 0.5407770388519426\n",
      "49\n",
      "Accuracy is: 0.5465517241379311\n",
      "50\n",
      "Accuracy is: 0.5706521739130435\n"
     ]
    }
   ],
   "source": [
    "for i in range (30,50):\n",
    "    top_auths.append(df['author'].value_counts().keys()[i])\n",
    "    temp = df.loc[df['author'] == top_auths[i]]\n",
    "    docs = temp['text'].tolist()\n",
    "    auth_docs.append(docs)\n",
    "    tokens.append([])\n",
    "    for art in auth_docs[i]:\n",
    "        tokens[i].append(nltk.word_tokenize(art))\n",
    "    cleaned_tokens.append([])\n",
    "    for tok in tokens[i]:\n",
    "        cleaned_tokens[i].append(remove_noise(tok, stop_words))\n",
    "    print(i+1)\n",
    "    all_words.append(get_all_words(cleaned_tokens[i]))\n",
    "    ds_auths.append([(word_dict, top_auths[i]) for word_dict in  get_strings_for_model(cleaned_tokens[i])])\n",
    "\n",
    "    ds_full = ds_full + ds_auths[i]\n",
    "    \n",
    "    random.shuffle(ds_full)\n",
    "    l_ds = len(ds_full)\n",
    "    ds_sp = round(l_ds * 0.7)\n",
    "\n",
    "    #split data into training and test\n",
    "    train_data = ds_full[:ds_sp]\n",
    "    test_data = ds_full[ds_sp:]\n",
    "    classifier = NaiveBayesClassifier.train(train_data)\n",
    "    print(\"Accuracy is:\", classify.accuracy(classifier, test_data))\n",
    "    #print(classifier.show_most_informative_features(5))\n",
    "    accs.append(classify.accuracy(classifier, test_data))\n"
   ]
  },
  {
   "cell_type": "code",
   "execution_count": 20,
   "id": "0c1c6ce0",
   "metadata": {},
   "outputs": [
    {
     "data": {
      "text/plain": [
       "[<matplotlib.lines.Line2D at 0x278dff719d0>]"
      ]
     },
     "execution_count": 20,
     "metadata": {},
     "output_type": "execute_result"
    },
    {
     "data": {
      "image/png": "[encoded data removed]",
      "text/plain": [
       "<Figure size 432x288 with 1 Axes>"
      ]
     },
     "metadata": {
      "needs_background": "light"
     },
     "output_type": "display_data"
    }
   ],
   "source": [
    "import matplotlib.pyplot as plt\n",
    "\n",
    "ax = [i for i in range(2,51)]\n",
    "\n",
    "plt.ylim(ymin=0,ymax=1)\n",
    "plt.xlabel('Number of Authors')\n",
    "plt.ylabel('Test Classification Accuracy')\n",
    "\n",
    "plt.plot(ax, accs)\n",
    "\n"
   ]
  }
 ],
 "metadata": {
  "kernelspec": {
   "display_name": "Python 3 (ipykernel)",
   "language": "python",
   "name": "python3"
  },
  "language_info": {
   "codemirror_mode": {
    "name": "ipython",
    "version": 3
   },
   "file_extension": ".py",
   "mimetype": "text/x-python",
   "name": "python",
   "nbconvert_exporter": "python",
   "pygments_lexer": "ipython3",
   "version": "3.9.7"
  }
 },
 "nbformat": 4,
 "nbformat_minor": 5
}
